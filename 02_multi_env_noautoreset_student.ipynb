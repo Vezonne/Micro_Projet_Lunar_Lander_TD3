{
  "cells": [
    {
      "cell_type": "markdown",
      "id": "6b34dc4e",
      "metadata": {
        "id": "6b34dc4e",
        "lines_to_next_cell": 0
      },
      "source": [
        "# Outlook\n",
        "\n",
        "This notebook is designed to understand how to use a gymnasium environment as a BBRL agent in practice, using autoreset=False.\n",
        "It is part of the [BBRL documentation](https://github.com/osigaud/bbrl/docs/index.html).\n",
        "\n",
        "If this is your first contact with BBRL, you may start be having a look at [this more basic notebook](01-basic_concepts.student.ipynb)."
      ]
    },
    {
      "cell_type": "markdown",
      "id": "8ce2d0a6",
      "metadata": {
        "id": "8ce2d0a6"
      },
      "source": [
        "## Installation and Imports\n",
        "\n",
        "The BBRL library is [here](https://github.com/osigaud/bbrl).\n",
        "\n",
        "Below, we import standard python packages, pytorch packages and gymnasium environments."
      ]
    },
    {
      "cell_type": "code",
      "execution_count": 1,
      "id": "fe8daeda",
      "metadata": {
        "colab": {
          "base_uri": "https://localhost:8080/"
        },
        "id": "fe8daeda",
        "outputId": "9a26c8c9-0e12-4946-eecc-5cafb4549bd5",
        "tags": [
          "hide-input"
        ]
      },
      "outputs": [],
      "source": [
        "# Installs the necessary Python and system libraries\n",
        "try:\n",
        "    from easypip import easyimport, easyinstall, is_notebook\n",
        "except ModuleNotFoundError as e:\n",
        "    get_ipython().run_line_magic(\"pip\", \"install easypip\")\n",
        "    from easypip import easyimport, easyinstall, is_notebook\n",
        "\n",
        "easyinstall(\"bbrl>=0.2.2\")\n",
        "easyinstall(\"swig\")\n",
        "easyinstall(\"bbrl_gymnasium>=0.2.0\")\n",
        "easyinstall(\"bbrl_gymnasium[classic_control]\")"
      ]
    },
    {
      "cell_type": "code",
      "execution_count": 2,
      "id": "a3c0ede2",
      "metadata": {
        "id": "a3c0ede2",
        "tags": [
          "hide-input"
        ]
      },
      "outputs": [],
      "source": [
        "import os\n",
        "import sys\n",
        "from pathlib import Path\n",
        "import math\n",
        "\n",
        "from moviepy.editor import ipython_display as video_display\n",
        "import time\n",
        "from tqdm.auto import tqdm\n",
        "from typing import Tuple, Optional\n",
        "from functools import partial\n",
        "\n",
        "from omegaconf import OmegaConf\n",
        "import torch\n",
        "import bbrl_gymnasium\n",
        "\n",
        "import copy\n",
        "from abc import abstractmethod, ABC\n",
        "import torch.nn as nn\n",
        "import torch.nn.functional as F\n",
        "from time import strftime\n",
        "OmegaConf.register_new_resolver(\n",
        "    \"current_time\", lambda: strftime(\"%Y%m%d-%H%M%S\"), replace=True\n",
        ")"
      ]
    },
    {
      "cell_type": "code",
      "execution_count": 3,
      "id": "646bd8de",
      "metadata": {
        "id": "646bd8de",
        "tags": [
          "hide-input"
        ]
      },
      "outputs": [],
      "source": [
        "# Imports all the necessary classes and functions from BBRL\n",
        "from bbrl.agents.agent import Agent\n",
        "from bbrl import get_arguments, get_class, instantiate_class\n",
        "# The workspace is the main class in BBRL, this is where all data is collected and stored\n",
        "from bbrl.workspace import Workspace\n",
        "\n",
        "# Agents(agent1, agent2, agent3, ...) executes the different agents the one after the other\n",
        "# TemporalAgent(agent) executes an agent over multiple timesteps in the workspace,\n",
        "# or until a given condition is reached\n",
        "\n",
        "from bbrl.agents import Agents, TemporalAgent\n",
        "from bbrl.agents.gymnasium import ParallelGymAgent, make_env"
      ]
    },
    {
      "cell_type": "code",
      "execution_count": 4,
      "id": "1949cc01",
      "metadata": {
        "id": "1949cc01"
      },
      "outputs": [],
      "source": [
        "from gymnasium.wrappers.time_limit import TimeLimit"
      ]
    },
    {
      "cell_type": "markdown",
      "id": "f9e38c6d",
      "metadata": {
        "id": "f9e38c6d",
        "lines_to_next_cell": 2
      },
      "source": [
        "## Definition of agents\n",
        "\n",
        "We first create an Agent representing [the CartPole-v1 gym environment](https://gymnasium.farama.org/environments/classic_control/cart_pole/).\n",
        "This is done using the [ParallelGymAgent](https://github.com/osigaud/bbrl/blob/40fe0468feb8998e62c3cd6bb3a575fef88e256f/src/bbrl/agents/gymnasium.py#L261) class.\n",
        "\n",
        "The ParallelGymAgent is an agent able to execute a batch of gymnasium environments\n",
        "with or without auto-resetting. These agents produce multiple variables in the workspace:\n",
        "’env/env_obs’, ’env/reward’, ’env/timestep’, ’env/terminated’,\n",
        "'env/truncated', 'env/done', ’env/cumulated_reward’.\n",
        "\n",
        "When called at timestep t=0, the environments are automatically reset. At\n",
        "timestep t>0, these agents will read the ’action’ variable in the workspace at\n",
        "time t − 1 to generate the next state, by calling the step(action) of the contained gymnasium environment.\n",
        "\n",
        "In the example below, we are working with batches (i.e. several episodes at the same time),\n",
        "so here our agent uses `n_envs = 3` environments."
      ]
    },
    {
      "cell_type": "code",
      "execution_count": 9,
      "id": "ce253c1a",
      "metadata": {
        "colab": {
          "base_uri": "https://localhost:8080/"
        },
        "id": "ce253c1a",
        "outputId": "dc40cf91-73b7-4ced-99de-b55c0ccc7d26"
      },
      "outputs": [
        {
          "name": "stdout",
          "output_type": "stream",
          "text": [
            "Environment: observation space in R^4 and action space {1, ..., 2}\n"
          ]
        }
      ],
      "source": [
        "# We run episodes over 3 environments at a time\n",
        "n_envs = 3\n",
        "env_agent = ParallelGymAgent(partial(make_env, 'CartPole-v1', autoreset=False, wrappers=[lambda x: TimeLimit(x,5)]), n_envs, reward_at_t=False)\n",
        "# The random seed is set to 2139\n",
        "env_agent.seed(2139)\n",
        "\n",
        "obs_size, action_dim = env_agent.get_obs_and_actions_sizes()\n",
        "print(f\"Environment: observation space in R^{obs_size} and action space {{1, ..., {action_dim}}}\")"
      ]
    },
    {
      "cell_type": "code",
      "execution_count": 11,
      "id": "c28027b5",
      "metadata": {
        "colab": {
          "base_uri": "https://localhost:8080/"
        },
        "id": "c28027b5",
        "outputId": "a539d27e-6480-4df9-d678-5351d0401b58"
      },
      "outputs": [
        {
          "name": "stdout",
          "output_type": "stream",
          "text": [
            "Observation tensor([[ 0.0124, -0.0116,  0.0219,  0.0477],\n",
            "        [ 0.0100, -0.0009, -0.0109, -0.0069],\n",
            "        [ 0.0457,  0.0205,  0.0487,  0.0031]])\n"
          ]
        }
      ],
      "source": [
        "# Creates a new workspace\n",
        "workspace = Workspace()\n",
        "\n",
        "# Execute the first step\n",
        "env_agent(workspace, t=0)\n",
        "\n",
        "# Our first set of observations. The size of the observation space is 4, and we have 3 environments.\n",
        "obs = workspace.get(\"env/env_obs\", 0)\n",
        "print(\"Observation\", obs)\n",
        "\n"
      ]
    },
    {
      "cell_type": "markdown",
      "id": "4db311a2",
      "metadata": {
        "id": "4db311a2"
      },
      "source": [
        "To generate more steps into the workspace, we need to send actions to the environment.\n",
        "\n",
        "### Random action without agent\n",
        "\n",
        "We first set an action directly without using an agent"
      ]
    },
    {
      "cell_type": "code",
      "execution_count": 12,
      "id": "92877535",
      "metadata": {
        "colab": {
          "base_uri": "https://localhost:8080/"
        },
        "id": "92877535",
        "outputId": "b9f83ae4-6ee0-47b7-9336-580eeef16d69"
      },
      "outputs": [
        {
          "name": "stdout",
          "output_type": "stream",
          "text": [
            "tensor([1, 1, 1])\n"
          ]
        },
        {
          "data": {
            "text/plain": [
              "tensor([[ 0.0122,  0.1832,  0.0228, -0.2380],\n",
              "        [ 0.0100,  0.1943, -0.0111, -0.3030],\n",
              "        [ 0.0461,  0.2149,  0.0488, -0.2739]])"
            ]
          },
          "execution_count": 12,
          "metadata": {},
          "output_type": "execute_result"
        }
      ],
      "source": [
        "# Sets the next action\n",
        "action = torch.randint(0, action_dim, (n_envs, ))\n",
        "workspace.set(\"action\", 0, action)\n",
        "print(action)\n",
        "env_agent(workspace, t=1)\n",
        "\n",
        "# And perform one step\n",
        "workspace.get(\"env/env_obs\", 1)"
      ]
    },
    {
      "cell_type": "markdown",
      "id": "8efe6d64",
      "metadata": {
        "id": "8efe6d64"
      },
      "source": [
        "Let us now look at what's in the workspace. You can see below all the variables it generates."
      ]
    },
    {
      "cell_type": "code",
      "execution_count": 13,
      "id": "b8e1e6e7",
      "metadata": {
        "colab": {
          "base_uri": "https://localhost:8080/"
        },
        "id": "b8e1e6e7",
        "lines_to_next_cell": 1,
        "outputId": "517ef3fc-3351-4006-9cec-44654bf90eda"
      },
      "outputs": [
        {
          "name": "stdout",
          "output_type": "stream",
          "text": [
            "env/env_obs tensor([[[ 0.0124, -0.0116,  0.0219,  0.0477],\n",
            "         [ 0.0100, -0.0009, -0.0109, -0.0069],\n",
            "         [ 0.0457,  0.0205,  0.0487,  0.0031]],\n",
            "\n",
            "        [[ 0.0122,  0.1832,  0.0228, -0.2380],\n",
            "         [ 0.0100,  0.1943, -0.0111, -0.3030],\n",
            "         [ 0.0461,  0.2149,  0.0488, -0.2739]]])\n",
            "env/terminated tensor([[False, False, False],\n",
            "        [False, False, False]])\n",
            "env/truncated tensor([[False, False, False],\n",
            "        [False, False, False]])\n",
            "env/done tensor([[False, False, False],\n",
            "        [False, False, False]])\n",
            "env/reward tensor([[0., 0., 0.],\n",
            "        [1., 1., 1.]])\n",
            "env/cumulated_reward tensor([[0., 0., 0.],\n",
            "        [1., 1., 1.]])\n",
            "env/timestep tensor([[0, 0, 0],\n",
            "        [1, 1, 1]])\n",
            "action tensor([[1, 1, 1]])\n"
          ]
        }
      ],
      "source": [
        "for key in workspace.variables.keys():\n",
        "    print(key, workspace[key])"
      ]
    },
    {
      "cell_type": "markdown",
      "id": "5e810df8",
      "metadata": {
        "id": "5e810df8"
      },
      "source": [
        "You can observe that we have two time steps for each variable that are stored\n",
        "within tensors where the first dimension is time.\n",
        "\n",
        "You can also see that by convention, all variables written by the environment start with \"env/\"."
      ]
    },
    {
      "cell_type": "markdown",
      "id": "7e305632",
      "metadata": {
        "id": "7e305632"
      },
      "source": [
        "### Random agent\n",
        "\n",
        "The process above can be\n",
        "automatized with `Agents` and `TemporalAgent` as shown below - but first we have\n",
        "to create an agent that selects the actions (here, randomly)."
      ]
    },
    {
      "cell_type": "code",
      "execution_count": 14,
      "id": "b7133853",
      "metadata": {
        "id": "b7133853"
      },
      "outputs": [],
      "source": [
        "class RandomAgent(Agent):\n",
        "    def __init__(self, action_dim):\n",
        "        super().__init__()\n",
        "        self.action_dim = action_dim\n",
        "\n",
        "    def forward(self, t: int, choose_action=True, **kwargs):\n",
        "        \"\"\"An Agent can use self.workspace\"\"\"\n",
        "        obs = self.get((\"env/env_obs\", t))\n",
        "        action = torch.randint(0, self.action_dim, (len(obs), ))\n",
        "        self.set((\"action\", t), action)\n",
        "\n",
        "# Each agent is run in the order given when constructing Agents\n",
        "agents = Agents(env_agent, RandomAgent(action_dim))\n",
        "\n",
        "# And the TemporalAgent allows to run through time\n",
        "t_agents = TemporalAgent(agents)"
      ]
    },
    {
      "cell_type": "code",
      "execution_count": 15,
      "id": "eb791f07",
      "metadata": {
        "id": "eb791f07"
      },
      "outputs": [],
      "source": [
        "# We can now run the agents throught time with a simple call...\n",
        "\n",
        "workspace = Workspace()\n",
        "t_agents(workspace, t=0, stop_variable=\"env/done\", stochastic=True)"
      ]
    },
    {
      "cell_type": "code",
      "execution_count": 16,
      "id": "262e3b5d",
      "metadata": {
        "colab": {
          "base_uri": "https://localhost:8080/"
        },
        "id": "262e3b5d",
        "outputId": "b17b81b6-300c-4d5c-dd05-4b1c86f42fd9"
      },
      "outputs": [
        {
          "name": "stdout",
          "output_type": "stream",
          "text": [
            "env/env_obs tensor([[[ 0.0351, -0.0244,  0.0483,  0.0200],\n",
            "         [-0.0070,  0.0379, -0.0248,  0.0201],\n",
            "         [-0.0378,  0.0325,  0.0493, -0.0067]],\n",
            "\n",
            "        [[ 0.0346,  0.1700,  0.0487, -0.2571],\n",
            "         [-0.0062, -0.1568, -0.0244,  0.3049],\n",
            "         [-0.0372, -0.1633,  0.0492,  0.3012]],\n",
            "\n",
            "        [[ 0.0380, -0.0258,  0.0435,  0.0505],\n",
            "         [-0.0093, -0.3516, -0.0183,  0.5898],\n",
            "         [-0.0404, -0.3591,  0.0552,  0.6089]],\n",
            "\n",
            "        [[ 0.0375,  0.1687,  0.0445, -0.2281],\n",
            "         [-0.0164, -0.5464, -0.0065,  0.8766],\n",
            "         [-0.0476, -0.1648,  0.0674,  0.3341]],\n",
            "\n",
            "        [[ 0.0409,  0.3632,  0.0400, -0.5064],\n",
            "         [-0.0273, -0.7415,  0.0110,  1.1672],\n",
            "         [-0.0509,  0.0293,  0.0741,  0.0635]],\n",
            "\n",
            "        [[ 0.0481,  0.1675,  0.0298, -0.2014],\n",
            "         [-0.0421, -0.9367,  0.0343,  1.4633],\n",
            "         [-0.0503,  0.2233,  0.0754, -0.2050]]])\n",
            "env/terminated tensor([[False, False, False],\n",
            "        [False, False, False],\n",
            "        [False, False, False],\n",
            "        [False, False, False],\n",
            "        [False, False, False],\n",
            "        [False, False, False]])\n",
            "env/truncated tensor([[False, False, False],\n",
            "        [False, False, False],\n",
            "        [False, False, False],\n",
            "        [False, False, False],\n",
            "        [False, False, False],\n",
            "        [ True,  True,  True]])\n",
            "env/done tensor([[False, False, False],\n",
            "        [False, False, False],\n",
            "        [False, False, False],\n",
            "        [False, False, False],\n",
            "        [False, False, False],\n",
            "        [ True,  True,  True]])\n",
            "env/reward tensor([[0., 0., 0.],\n",
            "        [1., 1., 1.],\n",
            "        [1., 1., 1.],\n",
            "        [1., 1., 1.],\n",
            "        [1., 1., 1.],\n",
            "        [1., 1., 1.]])\n",
            "env/cumulated_reward tensor([[0., 0., 0.],\n",
            "        [1., 1., 1.],\n",
            "        [2., 2., 2.],\n",
            "        [3., 3., 3.],\n",
            "        [4., 4., 4.],\n",
            "        [5., 5., 5.]])\n",
            "env/timestep tensor([[0, 0, 0],\n",
            "        [1, 1, 1],\n",
            "        [2, 2, 2],\n",
            "        [3, 3, 3],\n",
            "        [4, 4, 4],\n",
            "        [5, 5, 5]])\n",
            "action tensor([[1, 0, 0],\n",
            "        [0, 0, 0],\n",
            "        [1, 0, 1],\n",
            "        [1, 0, 1],\n",
            "        [0, 0, 1],\n",
            "        [1, 1, 0]])\n"
          ]
        }
      ],
      "source": [
        "for key in workspace.variables.keys():\n",
        "    print(key, workspace[key])"
      ]
    },
    {
      "cell_type": "markdown",
      "id": "57f2d21e",
      "metadata": {
        "id": "57f2d21e"
      },
      "source": [
        "### Termination\n",
        "\n",
        "`env/done` tells us whether the episode was finished or not (it is either terminated or truncated)\n",
        "here, with NoAutoReset, we wait that all episodes are \"done\"\n",
        "and when the episode is finished, the variables are copied for that environment until all episodes are done.\n",
        "So, when an environment is done before the others, its content is copied until the termination of all environments.\n",
        "This is convenient for collecting the final reward."
      ]
    },
    {
      "cell_type": "code",
      "execution_count": 18,
      "id": "0a3bdf1f",
      "metadata": {
        "colab": {
          "base_uri": "https://localhost:8080/"
        },
        "id": "0a3bdf1f",
        "outputId": "9d3737db-5cc6-468d-a0a3-1970d24e14c1"
      },
      "outputs": [
        {
          "data": {
            "text/plain": [
              "(torch.Size([6, 3]),\n",
              " tensor([[False, False, False],\n",
              "         [False, False, False],\n",
              "         [False, False, False],\n",
              "         [False, False, False],\n",
              "         [False, False, False],\n",
              "         [ True,  True,  True]]))"
            ]
          },
          "execution_count": 18,
          "metadata": {},
          "output_type": "execute_result"
        }
      ],
      "source": [
        "workspace[\"env/done\"].shape, workspace[\"env/done\"][-10:]"
      ]
    },
    {
      "cell_type": "markdown",
      "id": "6c4a4ff4",
      "metadata": {
        "id": "6c4a4ff4"
      },
      "source": [
        "You can see that the variable is copied until all episodes are done."
      ]
    },
    {
      "cell_type": "markdown",
      "id": "800669ec",
      "metadata": {
        "id": "800669ec"
      },
      "source": [
        "### Observations\n",
        "\n",
        "The resulting tensor of observations, with the last two observations:"
      ]
    },
    {
      "cell_type": "code",
      "execution_count": 19,
      "id": "66cc8624",
      "metadata": {
        "colab": {
          "base_uri": "https://localhost:8080/"
        },
        "id": "66cc8624",
        "outputId": "e8274556-014b-4256-f35c-b36b413519a1"
      },
      "outputs": [
        {
          "data": {
            "text/plain": [
              "(torch.Size([6, 3, 4]),\n",
              " tensor([[[ 0.0409,  0.3632,  0.0400, -0.5064],\n",
              "          [-0.0273, -0.7415,  0.0110,  1.1672],\n",
              "          [-0.0509,  0.0293,  0.0741,  0.0635]],\n",
              " \n",
              "         [[ 0.0481,  0.1675,  0.0298, -0.2014],\n",
              "          [-0.0421, -0.9367,  0.0343,  1.4633],\n",
              "          [-0.0503,  0.2233,  0.0754, -0.2050]]]))"
            ]
          },
          "execution_count": 19,
          "metadata": {},
          "output_type": "execute_result"
        }
      ],
      "source": [
        "workspace[\"env/env_obs\"].shape, workspace[\"env/env_obs\"][-2:]"
      ]
    },
    {
      "cell_type": "markdown",
      "id": "5d2b6c6d",
      "metadata": {
        "id": "5d2b6c6d"
      },
      "source": [
        "### Rewards\n",
        "\n",
        "The resulting tensor of rewards, with the last 8 rewards:"
      ]
    },
    {
      "cell_type": "code",
      "execution_count": 20,
      "id": "c046115f",
      "metadata": {
        "colab": {
          "base_uri": "https://localhost:8080/"
        },
        "id": "c046115f",
        "outputId": "38e13d37-3e5a-4bf4-96ea-53df7fc0cc66"
      },
      "outputs": [
        {
          "data": {
            "text/plain": [
              "(torch.Size([6, 3]),\n",
              " tensor([[0., 0., 0.],\n",
              "         [1., 1., 1.],\n",
              "         [1., 1., 1.],\n",
              "         [1., 1., 1.],\n",
              "         [1., 1., 1.],\n",
              "         [1., 1., 1.]]))"
            ]
          },
          "execution_count": 20,
          "metadata": {},
          "output_type": "execute_result"
        }
      ],
      "source": [
        "workspace[\"env/reward\"].shape, workspace[\"env/reward\"][-8:]"
      ]
    },
    {
      "cell_type": "markdown",
      "id": "93f417da",
      "metadata": {
        "id": "93f417da"
      },
      "source": [
        "and the cumulated rewards:"
      ]
    },
    {
      "cell_type": "code",
      "execution_count": 21,
      "id": "e12520b5",
      "metadata": {
        "colab": {
          "base_uri": "https://localhost:8080/"
        },
        "id": "e12520b5",
        "outputId": "00281a46-5f6e-430d-fb64-50963eee7ef4"
      },
      "outputs": [
        {
          "data": {
            "text/plain": [
              "(torch.Size([6, 3]),\n",
              " tensor([[0., 0., 0.],\n",
              "         [1., 1., 1.],\n",
              "         [2., 2., 2.],\n",
              "         [3., 3., 3.],\n",
              "         [4., 4., 4.],\n",
              "         [5., 5., 5.]]))"
            ]
          },
          "execution_count": 21,
          "metadata": {},
          "output_type": "execute_result"
        }
      ],
      "source": [
        "workspace[\"env/cumulated_reward\"].shape, workspace[\"env/cumulated_reward\"][-8:]"
      ]
    },
    {
      "cell_type": "markdown",
      "id": "316c63b3",
      "metadata": {
        "id": "316c63b3"
      },
      "source": [
        "### Actions\n",
        "\n",
        "The resulting tensor of actions, with the last two actions:"
      ]
    },
    {
      "cell_type": "code",
      "execution_count": 22,
      "id": "aad76f54",
      "metadata": {
        "colab": {
          "base_uri": "https://localhost:8080/"
        },
        "id": "aad76f54",
        "outputId": "6aaf2ab7-a032-40f6-a881-76ebe4ded745"
      },
      "outputs": [
        {
          "data": {
            "text/plain": [
              "(torch.Size([6, 3]),\n",
              " tensor([[0, 0, 1],\n",
              "         [1, 1, 0]]))"
            ]
          },
          "execution_count": 22,
          "metadata": {},
          "output_type": "execute_result"
        }
      ],
      "source": [
        "workspace[\"action\"].shape, workspace[\"action\"][-2:]"
      ]
    },
    {
      "cell_type": "markdown",
      "id": "e5456d39",
      "metadata": {
        "id": "e5456d39"
      },
      "source": [
        "## Exercise\n",
        "\n",
        "Create a stupid agent that always outputs action 1, until the episode stops.\n",
        "Watch the content of the resulting workspace."
      ]
    },
    {
      "cell_type": "code",
      "execution_count": 23,
      "id": "F7d9ZQESdDfH",
      "metadata": {
        "id": "F7d9ZQESdDfH"
      },
      "outputs": [
        {
          "name": "stdout",
          "output_type": "stream",
          "text": [
            "env/env_obs tensor([[[ 1.5349e-02, -1.6139e-02, -1.4235e-02,  2.6596e-02],\n",
            "         [-2.9842e-02,  4.2431e-02,  7.2186e-04,  8.1762e-03],\n",
            "         [-8.3105e-03,  6.8620e-03,  1.7204e-02, -1.3014e-02]],\n",
            "\n",
            "        [[ 1.5026e-02,  1.7918e-01, -1.3703e-02, -2.7054e-01],\n",
            "         [-2.8993e-02,  2.3754e-01,  8.8538e-04, -2.8428e-01],\n",
            "         [-8.1733e-03,  2.0173e-01,  1.6943e-02, -3.0022e-01]],\n",
            "\n",
            "        [[ 1.8610e-02,  3.7450e-01, -1.9114e-02, -5.6752e-01],\n",
            "         [-2.4242e-02,  4.3265e-01, -4.8002e-03, -5.7668e-01],\n",
            "         [-4.1386e-03,  3.9661e-01,  1.0939e-02, -5.8751e-01]],\n",
            "\n",
            "        [[ 2.6100e-02,  5.6988e-01, -3.0465e-02, -8.6616e-01],\n",
            "         [-1.5589e-02,  6.2784e-01, -1.6334e-02, -8.7087e-01],\n",
            "         [ 3.7936e-03,  5.9158e-01, -8.1133e-04, -8.7673e-01]],\n",
            "\n",
            "        [[ 3.7497e-02,  7.6541e-01, -4.7788e-02, -1.1683e+00],\n",
            "         [-3.0326e-03,  8.2318e-01, -3.3751e-02, -1.1686e+00],\n",
            "         [ 1.5625e-02,  7.8671e-01, -1.8346e-02, -1.1697e+00]],\n",
            "\n",
            "        [[ 5.2806e-02,  9.6112e-01, -7.1153e-02, -1.4755e+00],\n",
            "         [ 1.3431e-02,  1.0187e+00, -5.7124e-02, -1.4717e+00],\n",
            "         [ 3.1359e-02,  9.8207e-01, -4.1739e-02, -1.4680e+00]]])\n",
            "env/terminated tensor([[False, False, False],\n",
            "        [False, False, False],\n",
            "        [False, False, False],\n",
            "        [False, False, False],\n",
            "        [False, False, False],\n",
            "        [False, False, False]])\n",
            "env/truncated tensor([[False, False, False],\n",
            "        [False, False, False],\n",
            "        [False, False, False],\n",
            "        [False, False, False],\n",
            "        [False, False, False],\n",
            "        [ True,  True,  True]])\n",
            "env/done tensor([[False, False, False],\n",
            "        [False, False, False],\n",
            "        [False, False, False],\n",
            "        [False, False, False],\n",
            "        [False, False, False],\n",
            "        [ True,  True,  True]])\n",
            "env/reward tensor([[0., 0., 0.],\n",
            "        [1., 1., 1.],\n",
            "        [1., 1., 1.],\n",
            "        [1., 1., 1.],\n",
            "        [1., 1., 1.],\n",
            "        [1., 1., 1.]])\n",
            "env/cumulated_reward tensor([[0., 0., 0.],\n",
            "        [1., 1., 1.],\n",
            "        [2., 2., 2.],\n",
            "        [3., 3., 3.],\n",
            "        [4., 4., 4.],\n",
            "        [5., 5., 5.]])\n",
            "env/timestep tensor([[0, 0, 0],\n",
            "        [1, 1, 1],\n",
            "        [2, 2, 2],\n",
            "        [3, 3, 3],\n",
            "        [4, 4, 4],\n",
            "        [5, 5, 5]])\n",
            "action tensor([[1, 1, 1],\n",
            "        [1, 1, 1],\n",
            "        [1, 1, 1],\n",
            "        [1, 1, 1],\n",
            "        [1, 1, 1],\n",
            "        [1, 1, 1]], dtype=torch.int32)\n"
          ]
        }
      ],
      "source": [
        "class DummyAgent(Agent):\n",
        "    def __init__(self, action_dim):\n",
        "        super().__init__()\n",
        "        self.action_dim = action_dim\n",
        "        \n",
        "    def forward(self, t: int, choose_action=True, **kwargs):\n",
        "        obs = self.get((\"env/env_obs\", t))\n",
        "        action = torch.ones((len(obs), ), dtype=torch.int)\n",
        "        self.set((\"action\", t), action)\n",
        "\n",
        "agents = Agents(env_agent, DummyAgent(action_dim))\n",
        "\n",
        "t_agents = TemporalAgent(agents)\n",
        "\n",
        "workspace = Workspace()\n",
        "t_agents(workspace, t=0, stop_variable=\"env/done\", stochastic=True)\n",
        "\n",
        "for key in workspace.variables.keys():\n",
        "    print(key, workspace[key])"
      ]
    }
  ],
  "metadata": {
    "colab": {
      "provenance": []
    },
    "jupytext": {
      "cell_markers": "\"\"\""
    },
    "kernelspec": {
      "display_name": "Myenv",
      "language": "python",
      "name": "python3"
    },
    "language_info": {
      "codemirror_mode": {
        "name": "ipython",
        "version": 3
      },
      "file_extension": ".py",
      "mimetype": "text/x-python",
      "name": "python",
      "nbconvert_exporter": "python",
      "pygments_lexer": "ipython3",
      "version": "3.12.3"
    }
  },
  "nbformat": 4,
  "nbformat_minor": 5
}

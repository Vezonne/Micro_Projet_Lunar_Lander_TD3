{
  "cells": [
    {
      "cell_type": "markdown",
      "id": "eb124fa2",
      "metadata": {
        "id": "eb124fa2"
      },
      "source": [
        "# Outlook\n",
        "\n",
        "This notebook is designed to understand how to use a gymnasium environment as a BBRL agent in practice, using autoreset=True.\n",
        "It is part of the [BBRL documentation](https://github.com/osigaud/bbrl/docs/index.html).\n",
        "\n",
        "If this is your first contact with BBRL, you may start be having a look at [this more basic notebook](01-basic_concepts.student.ipynb) and [the one using autoreset=False](02-multi_env_noautoreset.student.ipynb)."
      ]
    },
    {
      "cell_type": "markdown",
      "id": "42863512",
      "metadata": {
        "id": "42863512"
      },
      "source": [
        "## Installation and Imports\n",
        "\n",
        "The BBRL library is [here](https://github.com/osigaud/bbrl).\n",
        "\n",
        "Below, we import standard python packages, pytorch packages and gymnasium environments."
      ]
    },
    {
      "cell_type": "code",
      "execution_count": 2,
      "id": "13631a8d",
      "metadata": {
        "colab": {
          "base_uri": "https://localhost:8080/"
        },
        "id": "13631a8d",
        "outputId": "89293712-2f86-4529-f6b6-0050a4c7f4c0",
        "tags": [
          "hide-input"
        ]
      },
      "outputs": [],
      "source": [
        "# Installs the necessary Python and system libraries\n",
        "try:\n",
        "    from easypip import easyimport, easyinstall, is_notebook\n",
        "except ModuleNotFoundError as e:\n",
        "    get_ipython().run_line_magic(\"pip\", \"install easypip\")\n",
        "    from easypip import easyimport, easyinstall, is_notebook\n",
        "\n",
        "easyinstall(\"bbrl>=0.2.2\")\n",
        "easyinstall(\"swig\")\n",
        "easyinstall(\"bbrl_gymnasium>=0.2.0\")\n",
        "easyinstall(\"bbrl_gymnasium[classic_control]\")"
      ]
    },
    {
      "cell_type": "code",
      "execution_count": 3,
      "id": "9f817a1b",
      "metadata": {
        "id": "9f817a1b",
        "tags": [
          "hide-input"
        ]
      },
      "outputs": [],
      "source": [
        "import os\n",
        "import sys\n",
        "from pathlib import Path\n",
        "import math\n",
        "\n",
        "from moviepy.editor import ipython_display as video_display\n",
        "import time\n",
        "from tqdm.auto import tqdm\n",
        "from typing import Tuple, Optional\n",
        "from functools import partial\n",
        "\n",
        "from omegaconf import OmegaConf\n",
        "import torch\n",
        "import bbrl_gymnasium\n",
        "\n",
        "import copy\n",
        "from abc import abstractmethod, ABC\n",
        "import torch.nn as nn\n",
        "import torch.nn.functional as F\n",
        "from time import strftime\n",
        "OmegaConf.register_new_resolver(\n",
        "    \"current_time\", lambda: strftime(\"%Y%m%d-%H%M%S\"), replace=True\n",
        ")"
      ]
    },
    {
      "cell_type": "code",
      "execution_count": 4,
      "id": "f1fa6c96",
      "metadata": {
        "id": "f1fa6c96",
        "tags": [
          "hide-input"
        ]
      },
      "outputs": [],
      "source": [
        "# Imports all the necessary classes and functions from BBRL\n",
        "from bbrl.agents.agent import Agent\n",
        "from bbrl import get_arguments, get_class, instantiate_class\n",
        "# The workspace is the main class in BBRL, this is where all data is collected and stored\n",
        "from bbrl.workspace import Workspace\n",
        "\n",
        "# Agents(agent1, agent2, agent3, ...) executes the different agents the one after the other\n",
        "# TemporalAgent(agent) executes an agent over multiple timesteps in the workspace,\n",
        "# or until a given condition is reached\n",
        "\n",
        "from bbrl.agents import Agents, TemporalAgent\n",
        "from bbrl.agents.gymnasium import ParallelGymAgent, make_env\n",
        "\n",
        "# Replay buffers are useful to store past transitions when training\n",
        "from bbrl.utils.replay_buffer import ReplayBuffer"
      ]
    },
    {
      "cell_type": "markdown",
      "id": "fcfcacdb",
      "metadata": {
        "id": "fcfcacdb",
        "lines_to_next_cell": 2
      },
      "source": [
        "## Definition of agents\n",
        "\n",
        "We reuse the RandomAgent already used in the autoreset=False case."
      ]
    },
    {
      "cell_type": "code",
      "execution_count": 5,
      "id": "fba3eaa4",
      "metadata": {
        "id": "fba3eaa4",
        "lines_to_next_cell": 1
      },
      "outputs": [],
      "source": [
        "class RandomAgent(Agent):\n",
        "    def __init__(self, action_dim):\n",
        "        super().__init__()\n",
        "        self.action_dim = action_dim\n",
        "\n",
        "    def forward(self, t: int, choose_action=True, **kwargs):\n",
        "        \"\"\"An Agent can use self.workspace\"\"\"\n",
        "        obs = self.get((\"env/env_obs\", t))\n",
        "        action = torch.randint(0, self.action_dim, (len(obs), ))\n",
        "        self.set((\"action\", t), action)"
      ]
    },
    {
      "cell_type": "markdown",
      "id": "6fe7c965",
      "metadata": {
        "id": "6fe7c965"
      },
      "source": [
        "As before, we create an Agent representing [the CartPole-v1 gym environment](https://gymnasium.farama.org/environments/classic_control/cart_pole/).\n",
        "This is done using the [ParallelGymAgent](https://github.com/osigaud/bbrl/blob/40fe0468feb8998e62c3cd6bb3a575fef88e256f/src/bbrl/agents/gymnasium.py#L261) class."
      ]
    },
    {
      "cell_type": "markdown",
      "id": "befe26bf",
      "metadata": {
        "id": "befe26bf"
      },
      "source": [
        "### Single environment case\n",
        "\n",
        "We start with a single instance of the CartPole environment"
      ]
    },
    {
      "cell_type": "code",
      "execution_count": 6,
      "id": "1aa8b5dc",
      "metadata": {
        "colab": {
          "base_uri": "https://localhost:8080/"
        },
        "id": "1aa8b5dc",
        "outputId": "e7dd2cad-90b0-4ee7-f669-40c54716dbe9"
      },
      "outputs": [
        {
          "name": "stdout",
          "output_type": "stream",
          "text": [
            "Environment: observation space in R^4 and action space R^2\n"
          ]
        }
      ],
      "source": [
        "# We deal with 1 environment (random seed 2139)\n",
        "\n",
        "env_agent = ParallelGymAgent(partial(make_env, env_name='CartPole-v1', autoreset=True), num_envs=1).seed(2139)\n",
        "obs_size, action_dim = env_agent.get_obs_and_actions_sizes()\n",
        "print(f\"Environment: observation space in R^{obs_size} and action space R^{action_dim}\")\n",
        "\n",
        "# Each agent is run in the order given when constructing Agents\n",
        "\n",
        "agents = Agents(env_agent, RandomAgent(action_dim))\n",
        "t_agents = TemporalAgent(agents)"
      ]
    },
    {
      "cell_type": "markdown",
      "id": "3950591a",
      "metadata": {
        "id": "3950591a"
      },
      "source": [
        "Let us have a closer look at the content of the workspace"
      ]
    },
    {
      "cell_type": "code",
      "execution_count": 7,
      "id": "7aa121e7",
      "metadata": {
        "id": "7aa121e7"
      },
      "outputs": [],
      "source": [
        "# Creates a new workspace\n",
        "workspace = Workspace()\n",
        "epoch_size = 15\n",
        "t_agents(workspace, n_steps=epoch_size)"
      ]
    },
    {
      "cell_type": "code",
      "execution_count": 8,
      "id": "b6f3d415",
      "metadata": {
        "colab": {
          "base_uri": "https://localhost:8080/"
        },
        "id": "b6f3d415",
        "outputId": "dad1fa41-76e9-478d-b1cc-ff7780469192",
        "scrolled": false
      },
      "outputs": [
        {
          "name": "stdout",
          "output_type": "stream",
          "text": [
            "env/env_obs torch.Size([15, 1, 4]) tensor([[[-0.0471,  0.0265,  0.0220, -0.0336]],\n",
            "\n",
            "        [[-0.0466, -0.1689,  0.0214,  0.2660]],\n",
            "\n",
            "        [[-0.0500,  0.0259,  0.0267, -0.0199]],\n",
            "\n",
            "        [[-0.0494,  0.2206,  0.0263, -0.3040]],\n",
            "\n",
            "        [[-0.0450,  0.0252,  0.0202, -0.0031]],\n",
            "\n",
            "        [[-0.0445,  0.2200,  0.0202, -0.2894]],\n",
            "\n",
            "        [[-0.0401,  0.4148,  0.0144, -0.5756]],\n",
            "\n",
            "        [[-0.0318,  0.6097,  0.0029, -0.8638]],\n",
            "\n",
            "        [[-0.0196,  0.8048, -0.0144, -1.1555]],\n",
            "\n",
            "        [[-0.0035,  1.0001, -0.0375, -1.4527]],\n",
            "\n",
            "        [[ 0.0165,  0.8055, -0.0666, -1.1720]],\n",
            "\n",
            "        [[ 0.0326,  0.6113, -0.0900, -0.9009]],\n",
            "\n",
            "        [[ 0.0448,  0.4175, -0.1080, -0.6378]],\n",
            "\n",
            "        [[ 0.0531,  0.2240, -0.1208, -0.3810]],\n",
            "\n",
            "        [[ 0.0576,  0.0308, -0.1284, -0.1287]]])\n",
            "env/terminated torch.Size([15, 1]) tensor([[False],\n",
            "        [False],\n",
            "        [False],\n",
            "        [False],\n",
            "        [False],\n",
            "        [False],\n",
            "        [False],\n",
            "        [False],\n",
            "        [False],\n",
            "        [False],\n",
            "        [False],\n",
            "        [False],\n",
            "        [False],\n",
            "        [False],\n",
            "        [False]])\n",
            "env/truncated torch.Size([15, 1]) tensor([[False],\n",
            "        [False],\n",
            "        [False],\n",
            "        [False],\n",
            "        [False],\n",
            "        [False],\n",
            "        [False],\n",
            "        [False],\n",
            "        [False],\n",
            "        [False],\n",
            "        [False],\n",
            "        [False],\n",
            "        [False],\n",
            "        [False],\n",
            "        [False]])\n",
            "env/done torch.Size([15, 1]) tensor([[False],\n",
            "        [False],\n",
            "        [False],\n",
            "        [False],\n",
            "        [False],\n",
            "        [False],\n",
            "        [False],\n",
            "        [False],\n",
            "        [False],\n",
            "        [False],\n",
            "        [False],\n",
            "        [False],\n",
            "        [False],\n",
            "        [False],\n",
            "        [False]])\n",
            "env/reward torch.Size([15, 1]) tensor([[0.],\n",
            "        [1.],\n",
            "        [1.],\n",
            "        [1.],\n",
            "        [1.],\n",
            "        [1.],\n",
            "        [1.],\n",
            "        [1.],\n",
            "        [1.],\n",
            "        [1.],\n",
            "        [1.],\n",
            "        [1.],\n",
            "        [1.],\n",
            "        [1.],\n",
            "        [1.]])\n",
            "env/cumulated_reward torch.Size([15, 1]) tensor([[ 0.],\n",
            "        [ 1.],\n",
            "        [ 2.],\n",
            "        [ 3.],\n",
            "        [ 4.],\n",
            "        [ 5.],\n",
            "        [ 6.],\n",
            "        [ 7.],\n",
            "        [ 8.],\n",
            "        [ 9.],\n",
            "        [10.],\n",
            "        [11.],\n",
            "        [12.],\n",
            "        [13.],\n",
            "        [14.]])\n",
            "env/timestep torch.Size([15, 1]) tensor([[ 0],\n",
            "        [ 1],\n",
            "        [ 2],\n",
            "        [ 3],\n",
            "        [ 4],\n",
            "        [ 5],\n",
            "        [ 6],\n",
            "        [ 7],\n",
            "        [ 8],\n",
            "        [ 9],\n",
            "        [10],\n",
            "        [11],\n",
            "        [12],\n",
            "        [13],\n",
            "        [14]])\n",
            "action torch.Size([15, 1]) tensor([[0],\n",
            "        [1],\n",
            "        [1],\n",
            "        [0],\n",
            "        [1],\n",
            "        [1],\n",
            "        [1],\n",
            "        [1],\n",
            "        [1],\n",
            "        [0],\n",
            "        [0],\n",
            "        [0],\n",
            "        [0],\n",
            "        [0],\n",
            "        [0]])\n"
          ]
        }
      ],
      "source": [
        "for key in workspace.variables.keys():\n",
        "    print(key, workspace[key].shape, workspace[key])"
      ]
    },
    {
      "cell_type": "code",
      "execution_count": 9,
      "id": "ba99c959",
      "metadata": {
        "colab": {
          "base_uri": "https://localhost:8080/",
          "height": 385
        },
        "id": "ba99c959",
        "outputId": "1396b408-bcc2-4061-dd39-d92dc761c3cd"
      },
      "outputs": [
        {
          "data": {
            "text/plain": [
              "'Observations (first 4)'"
            ]
          },
          "metadata": {},
          "output_type": "display_data"
        },
        {
          "data": {
            "text/plain": [
              "tensor([[[-0.0471,  0.0265,  0.0220, -0.0336]],\n",
              "\n",
              "        [[-0.0466, -0.1689,  0.0214,  0.2660]],\n",
              "\n",
              "        [[-0.0500,  0.0259,  0.0267, -0.0199]],\n",
              "\n",
              "        [[-0.0494,  0.2206,  0.0263, -0.3040]]])"
            ]
          },
          "metadata": {},
          "output_type": "display_data"
        },
        {
          "data": {
            "text/plain": [
              "'Transitions (first 3)'"
            ]
          },
          "metadata": {},
          "output_type": "display_data"
        },
        {
          "data": {
            "text/plain": [
              "'(s_0, s_1)'"
            ]
          },
          "metadata": {},
          "output_type": "display_data"
        },
        {
          "data": {
            "text/plain": [
              "tensor([[-0.0471,  0.0265,  0.0220, -0.0336],\n",
              "        [-0.0466, -0.1689,  0.0214,  0.2660]])"
            ]
          },
          "metadata": {},
          "output_type": "display_data"
        },
        {
          "data": {
            "text/plain": [
              "'(s_1, s_2)'"
            ]
          },
          "metadata": {},
          "output_type": "display_data"
        },
        {
          "data": {
            "text/plain": [
              "tensor([[-0.0466, -0.1689,  0.0214,  0.2660],\n",
              "        [-0.0500,  0.0259,  0.0267, -0.0199]])"
            ]
          },
          "metadata": {},
          "output_type": "display_data"
        },
        {
          "data": {
            "text/plain": [
              "'(s_2, s_3)'"
            ]
          },
          "metadata": {},
          "output_type": "display_data"
        },
        {
          "data": {
            "text/plain": [
              "tensor([[-0.0500,  0.0259,  0.0267, -0.0199],\n",
              "        [-0.0494,  0.2206,  0.0263, -0.3040]])"
            ]
          },
          "metadata": {},
          "output_type": "display_data"
        },
        {
          "data": {
            "text/plain": [
              "'(s_3, s_4)'"
            ]
          },
          "metadata": {},
          "output_type": "display_data"
        },
        {
          "data": {
            "text/plain": [
              "tensor([[-0.0494,  0.2206,  0.0263, -0.3040],\n",
              "        [-0.0450,  0.0252,  0.0202, -0.0031]])"
            ]
          },
          "metadata": {},
          "output_type": "display_data"
        }
      ],
      "source": [
        "\n",
        "# We get the transitions: each tensor is transformed so that:\n",
        "# - we have the value at time step t and t+1 (so all the tensors first dimension have a size of 2)\n",
        "# - there is no distinction between the different environments (here, there is just one environment to make it easy)\n",
        "transitions = workspace.get_transitions()\n",
        "\n",
        "display(\"Observations (first 4)\", workspace[\"env/env_obs\"][:4])\n",
        "\n",
        "display(\"Transitions (first 3)\")\n",
        "for t in range(4):\n",
        "    display(f'(s_{t}, s_{t+1})')\n",
        "    # We ignore the first dimension as it corresponds to [t, t+1]\n",
        "    display(transitions[\"env/env_obs\"][:, t])"
      ]
    },
    {
      "cell_type": "markdown",
      "id": "a3bbc7c8",
      "metadata": {
        "id": "a3bbc7c8"
      },
      "source": [
        "You can see that each transition in the workspace corresponds to a pair of observations.\n",
        "\n",
        "### Transitions as a workspace\n",
        "\n",
        "A transition workspace is still a workspace... this is quite\n",
        " handy since each transition can be seen as a mini-episode of two time steps;\n",
        " we can use our agents on it.\n",
        "\n",
        "It is often the case in BBRL that we have to apply an agent to an already existing workspace\n",
        "as shown below."
      ]
    },
    {
      "cell_type": "code",
      "execution_count": 10,
      "id": "2b3aab11",
      "metadata": {
        "colab": {
          "base_uri": "https://localhost:8080/"
        },
        "id": "2b3aab11",
        "outputId": "a03cede0-8d0b-4b1e-e55c-961d250b352f"
      },
      "outputs": [
        {
          "name": "stdout",
          "output_type": "stream",
          "text": [
            "env/env_obs tensor([[[-0.0471,  0.0265,  0.0220, -0.0336],\n",
            "         [-0.0466, -0.1689,  0.0214,  0.2660],\n",
            "         [-0.0500,  0.0259,  0.0267, -0.0199],\n",
            "         [-0.0494,  0.2206,  0.0263, -0.3040],\n",
            "         [-0.0450,  0.0252,  0.0202, -0.0031],\n",
            "         [-0.0445,  0.2200,  0.0202, -0.2894],\n",
            "         [-0.0401,  0.4148,  0.0144, -0.5756],\n",
            "         [-0.0318,  0.6097,  0.0029, -0.8638],\n",
            "         [-0.0196,  0.8048, -0.0144, -1.1555],\n",
            "         [-0.0035,  1.0001, -0.0375, -1.4527],\n",
            "         [ 0.0165,  0.8055, -0.0666, -1.1720],\n",
            "         [ 0.0326,  0.6113, -0.0900, -0.9009],\n",
            "         [ 0.0448,  0.4175, -0.1080, -0.6378],\n",
            "         [ 0.0531,  0.2240, -0.1208, -0.3810]],\n",
            "\n",
            "        [[-0.0466, -0.1689,  0.0214,  0.2660],\n",
            "         [-0.0500,  0.0259,  0.0267, -0.0199],\n",
            "         [-0.0494,  0.2206,  0.0263, -0.3040],\n",
            "         [-0.0450,  0.0252,  0.0202, -0.0031],\n",
            "         [-0.0445,  0.2200,  0.0202, -0.2894],\n",
            "         [-0.0401,  0.4148,  0.0144, -0.5756],\n",
            "         [-0.0318,  0.6097,  0.0029, -0.8638],\n",
            "         [-0.0196,  0.8048, -0.0144, -1.1555],\n",
            "         [-0.0035,  1.0001, -0.0375, -1.4527],\n",
            "         [ 0.0165,  0.8055, -0.0666, -1.1720],\n",
            "         [ 0.0326,  0.6113, -0.0900, -0.9009],\n",
            "         [ 0.0448,  0.4175, -0.1080, -0.6378],\n",
            "         [ 0.0531,  0.2240, -0.1208, -0.3810],\n",
            "         [ 0.0576,  0.0308, -0.1284, -0.1287]]])\n",
            "env/terminated tensor([[False, False, False, False, False, False, False, False, False, False,\n",
            "         False, False, False, False],\n",
            "        [False, False, False, False, False, False, False, False, False, False,\n",
            "         False, False, False, False]])\n",
            "env/truncated tensor([[False, False, False, False, False, False, False, False, False, False,\n",
            "         False, False, False, False],\n",
            "        [False, False, False, False, False, False, False, False, False, False,\n",
            "         False, False, False, False]])\n",
            "env/done tensor([[False, False, False, False, False, False, False, False, False, False,\n",
            "         False, False, False, False],\n",
            "        [False, False, False, False, False, False, False, False, False, False,\n",
            "         False, False, False, False]])\n",
            "env/reward tensor([[0., 1., 1., 1., 1., 1., 1., 1., 1., 1., 1., 1., 1., 1.],\n",
            "        [1., 1., 1., 1., 1., 1., 1., 1., 1., 1., 1., 1., 1., 1.]])\n",
            "env/cumulated_reward tensor([[ 0.,  1.,  2.,  3.,  4.,  5.,  6.,  7.,  8.,  9., 10., 11., 12., 13.],\n",
            "        [ 1.,  2.,  3.,  4.,  5.,  6.,  7.,  8.,  9., 10., 11., 12., 13., 14.]])\n",
            "env/timestep tensor([[ 0,  1,  2,  3,  4,  5,  6,  7,  8,  9, 10, 11, 12, 13],\n",
            "        [ 1,  2,  3,  4,  5,  6,  7,  8,  9, 10, 11, 12, 13, 14]])\n",
            "action tensor([[0, 1, 1, 0, 1, 1, 1, 1, 1, 0, 0, 0, 0, 0],\n",
            "        [1, 1, 0, 1, 1, 1, 1, 1, 0, 0, 0, 0, 0, 0]])\n",
            "new action, tensor([[0, 1, 0, 1, 0, 1, 0, 1, 1, 1, 0, 0, 1, 1],\n",
            "        [0, 1, 1, 0, 0, 1, 1, 0, 1, 0, 0, 1, 0, 1]])\n"
          ]
        }
      ],
      "source": [
        "for key in transitions.variables.keys():\n",
        "    print(key, transitions[key])\n",
        "\n",
        "t_random_agent = TemporalAgent(RandomAgent(action_dim))\n",
        "t_random_agent(transitions, t=0, n_steps=2)\n",
        "\n",
        "# Here, the action tensor will have been overwritten by the new actions\n",
        "print(f\"new action, {transitions['action']}\")"
      ]
    },
    {
      "cell_type": "markdown",
      "id": "6990c993",
      "metadata": {
        "id": "6990c993"
      },
      "source": [
        "### Multiple environment case\n",
        "\n",
        "Now we are using 3 environments.\n",
        "Given the organization of transitions, to find the transitions of a particular environment\n",
        "we have to watch in the transition every 3 lines, since transitions are stored one environment after the other."
      ]
    },
    {
      "cell_type": "code",
      "execution_count": 11,
      "id": "5aee3e15",
      "metadata": {
        "colab": {
          "base_uri": "https://localhost:8080/",
          "height": 489
        },
        "id": "5aee3e15",
        "outputId": "5ff28468-df34-4331-aec1-0d961f3f15d3"
      },
      "outputs": [
        {
          "name": "stdout",
          "output_type": "stream",
          "text": [
            "Environment: observation space in R^4 and action space R^2\n"
          ]
        },
        {
          "data": {
            "text/plain": [
              "'Observations (first 4)'"
            ]
          },
          "metadata": {},
          "output_type": "display_data"
        },
        {
          "data": {
            "text/plain": [
              "tensor([[[-0.0085, -0.0427, -0.0489,  0.0215],\n",
              "         [ 0.0005,  0.0025, -0.0493, -0.0402],\n",
              "         [ 0.0080,  0.0203, -0.0023, -0.0085]],\n",
              "\n",
              "        [[-0.0094, -0.2371, -0.0485,  0.2984],\n",
              "         [ 0.0006, -0.1919, -0.0501,  0.2366],\n",
              "         [ 0.0084, -0.1747, -0.0025,  0.2834]],\n",
              "\n",
              "        [[-0.0141, -0.0413, -0.0425, -0.0092],\n",
              "         [-0.0032,  0.0039, -0.0453, -0.0715],\n",
              "         [ 0.0049,  0.0204,  0.0032, -0.0100]],\n",
              "\n",
              "        [[-0.0149, -0.2358, -0.0427,  0.2698],\n",
              "         [-0.0032, -0.1906, -0.0468,  0.2066],\n",
              "         [ 0.0054, -0.1748,  0.0030,  0.2837]]])"
            ]
          },
          "metadata": {},
          "output_type": "display_data"
        },
        {
          "data": {
            "text/plain": [
              "'Transitions (first 3)'"
            ]
          },
          "metadata": {},
          "output_type": "display_data"
        },
        {
          "data": {
            "text/plain": [
              "'(s_0, s_1)'"
            ]
          },
          "metadata": {},
          "output_type": "display_data"
        },
        {
          "data": {
            "text/plain": [
              "tensor([[-0.0085, -0.0427, -0.0489,  0.0215],\n",
              "        [-0.0094, -0.2371, -0.0485,  0.2984]])"
            ]
          },
          "metadata": {},
          "output_type": "display_data"
        },
        {
          "data": {
            "text/plain": [
              "'(s_1, s_2)'"
            ]
          },
          "metadata": {},
          "output_type": "display_data"
        },
        {
          "data": {
            "text/plain": [
              "tensor([[ 0.0005,  0.0025, -0.0493, -0.0402],\n",
              "        [ 0.0006, -0.1919, -0.0501,  0.2366]])"
            ]
          },
          "metadata": {},
          "output_type": "display_data"
        },
        {
          "data": {
            "text/plain": [
              "'(s_2, s_3)'"
            ]
          },
          "metadata": {},
          "output_type": "display_data"
        },
        {
          "data": {
            "text/plain": [
              "tensor([[ 0.0080,  0.0203, -0.0023, -0.0085],\n",
              "        [ 0.0084, -0.1747, -0.0025,  0.2834]])"
            ]
          },
          "metadata": {},
          "output_type": "display_data"
        }
      ],
      "source": [
        "# We deal with 3 environments at a time (random seed 2139)\n",
        "\n",
        "multienv_agent = ParallelGymAgent(partial(make_env, env_name='CartPole-v1', autoreset=True), num_envs=3).seed(2139)\n",
        "obs_size, action_dim = multienv_agent.get_obs_and_actions_sizes()\n",
        "print(f\"Environment: observation space in R^{obs_size} and action space R^{action_dim}\")\n",
        "\n",
        "agents = Agents(multienv_agent, RandomAgent(action_dim))\n",
        "t_agents = TemporalAgent(agents)\n",
        "workspace = Workspace()\n",
        "t_agents(workspace, n_steps=epoch_size)\n",
        "transitions = workspace.get_transitions()\n",
        "\n",
        "display(\"Observations (first 4)\", workspace[\"env/env_obs\"][:4])\n",
        "\n",
        "display(\"Transitions (first 3)\")\n",
        "for t in range(3):\n",
        "    display(f'(s_{t}, s_{t+1})')\n",
        "    display(transitions[\"env/env_obs\"][:, t])"
      ]
    },
    {
      "cell_type": "markdown",
      "id": "c4476782",
      "metadata": {
        "id": "c4476782"
      },
      "source": [
        "You can see how the transitions are organized in the workspace relative to the 3 environments.\n",
        "You first get the first transition from the first environment.\n",
        "Then the first transition from the second environment.\n",
        "Then the first transition from the third environment.\n",
        "Then the second transition from the first environment, etc.\n",
        "\n",
        "## The replay buffer\n",
        "\n",
        "Differently from the previous case, we use a replace buffer that stores\n",
        "a set of transitions $(s_t, a_t, r_t, s_{t+1})$\n",
        "Finally, the replay buffer keeps slices [:, i, ...] of the transition\n",
        "workspace (here at most 80 transitions)"
      ]
    },
    {
      "cell_type": "code",
      "execution_count": 12,
      "id": "bc58e15d",
      "metadata": {
        "colab": {
          "base_uri": "https://localhost:8080/"
        },
        "id": "bc58e15d",
        "outputId": "091e6429-4577-4218-a0fb-3bca7b5d32c3"
      },
      "outputs": [
        {
          "data": {
            "text/plain": [
              "tensor([[[-0.0069,  0.2009, -0.0446, -0.4063],\n",
              "         [ 0.0049,  0.0204,  0.0032, -0.0100],\n",
              "         [-0.0181, -0.2335, -0.0461,  0.2183]],\n",
              "\n",
              "        [[-0.0029,  0.3966, -0.0528, -0.7127],\n",
              "         [ 0.0054, -0.1748,  0.0030,  0.2837],\n",
              "         [-0.0228, -0.0377, -0.0417, -0.0885]]])"
            ]
          },
          "execution_count": 12,
          "metadata": {},
          "output_type": "execute_result"
        }
      ],
      "source": [
        "rb = ReplayBuffer(max_size=80)\n",
        "\n",
        "# We add the transitions to the buffer....\n",
        "rb.put(transitions)\n",
        "\n",
        "# And sample from them here we get 3 tuples (s_t, s_{t+1})\n",
        "rb.get_shuffled(3)[\"env/env_obs\"]"
      ]
    },
    {
      "cell_type": "markdown",
      "id": "032c10f6",
      "metadata": {
        "id": "032c10f6"
      },
      "source": [
        "## Collecting several epochs into the same workspace\n",
        "\n",
        "In the code below, the workspace only contains one epoch at a time.\n",
        "The content of these different epochs are concatenated into the replay buffer"
      ]
    },
    {
      "cell_type": "code",
      "execution_count": 13,
      "id": "1c1ba319",
      "metadata": {
        "colab": {
          "base_uri": "https://localhost:8080/"
        },
        "id": "1c1ba319",
        "outputId": "2b928a59-85a2-43f5-bd6a-8ceed0f98870"
      },
      "outputs": [
        {
          "name": "stdout",
          "output_type": "stream",
          "text": [
            "collecting new epoch, already performed 42 steps\n",
            "replay buffer size: 80\n",
            "collecting new epoch, already performed 83 steps\n",
            "replay buffer size: 80\n",
            "collecting new epoch, already performed 122 steps\n",
            "replay buffer size: 80\n"
          ]
        }
      ],
      "source": [
        "nb_steps = 0\n",
        "max_steps = 100\n",
        "epoch_size = 10\n",
        "\n",
        "while nb_steps < max_steps:\n",
        "    # Execute the agent in the workspace\n",
        "    if nb_steps == 0:\n",
        "        # In the first epoch, we start with t=0\n",
        "        t_agents(workspace, t=0, n_steps=epoch_size)\n",
        "    else:\n",
        "        # Clear all gradient graphs from the workspace\n",
        "        workspace.zero_grad()\n",
        "        # Here we duplicate the last column of the previous epoch into the first column of the next epoch\n",
        "        workspace.copy_n_last_steps(1)\n",
        "\n",
        "        # In subsequent epochs, we start with t=1 so as to avoid overwriting the first column we just duplicated\n",
        "        t_agents(workspace, t=1, n_steps=epoch_size)\n",
        "\n",
        "    transition_workspace = workspace.get_transitions()\n",
        "\n",
        "    # The part below counts the number of steps: it ignores action performed during transition from one episode to the next,\n",
        "    # as they have been discarded by the get_transitions() function\n",
        "\n",
        "    action = transition_workspace[\"action\"]\n",
        "    nb_steps += action[0].shape[0]\n",
        "    print(f\"collecting new epoch, already performed {nb_steps} steps\")\n",
        "\n",
        "    if nb_steps > 0 or epoch_size  > 1:\n",
        "        rb.put(transition_workspace)\n",
        "    print(f\"replay buffer size: {rb.size()}\")"
      ]
    },
    {
      "cell_type": "markdown",
      "id": "bbb84141",
      "metadata": {
        "id": "bbb84141"
      },
      "source": [
        "## Exercise\n",
        "\n",
        "Create a stupid agent that always outputs action 1, run it for 10 epochs of 100 steps over 2 instances of the CartPole-v1 environment.\n",
        "Put the data into a replay buffer of size 5000.\n",
        "\n",
        "Then do the following:\n",
        "- Count the number of episodes the agent performed in each environment by counting the number of \"done=True\" elements in the workspace before applying the `get_transitions()` function\n",
        "- Count the total number of episodes performed by the agent by measuring the difference between the size of the replay buffer and the number of steps performed by the agent.\n",
        "- Make sure both counts are consistent\n",
        "\n",
        "Can we count the number of episodes performed in one environment using the second method? Why?"
      ]
    }
  ],
  "metadata": {
    "colab": {
      "provenance": []
    },
    "jupytext": {
      "cell_markers": "\"\"\""
    },
    "kernelspec": {
      "display_name": "Myenv",
      "language": "python",
      "name": "python3"
    },
    "language_info": {
      "codemirror_mode": {
        "name": "ipython",
        "version": 3
      },
      "file_extension": ".py",
      "mimetype": "text/x-python",
      "name": "python",
      "nbconvert_exporter": "python",
      "pygments_lexer": "ipython3",
      "version": "3.12.3"
    }
  },
  "nbformat": 4,
  "nbformat_minor": 5
}
